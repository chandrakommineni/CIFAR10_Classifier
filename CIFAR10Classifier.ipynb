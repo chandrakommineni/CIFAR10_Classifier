{
 "cells": [
  {
   "cell_type": "markdown",
   "id": "0ff28b42",
   "metadata": {
    "id": "0ff28b42"
   },
   "source": [
    "This can be run [run on Google Colab using this link](https://colab.research.google.com/github/CS7150/CS7150-Homework-2/blob/main/HW2_2_CIFAR10Classifier.ipynb)\n",
    "\n",
    "<font size='6'>** Neural Network CIFAR-10 Classification**</font>"
   ]
  },
  {
   "cell_type": "markdown",
   "id": "0ef1d8e6",
   "metadata": {
    "id": "0ef1d8e6"
   },
   "source": [
    "<font size='5'>**Overview**</font>\n",
    "\n",
    "In this  assignment, our objective is to build a neural network featuring two fully-connected layers designed for classification purposes. We will evaluate the performance of this neural network by testing it on the CIFAR-10 dataset.\n",
    "\n",
    "This assignment adheres to a standard classification setup, which encompasses the use of a dataloader to load labeled image data in a natural form and training the model in a minibatch-based fashion.\n",
    "\n",
    "**Your assignment**: Your responsibility throughout this notebook is to thoroughly review the content and address all the conceptual and technical questions identified within the sections marked with \"Task\" headers and \"TODO:\" comments in the code."
   ]
  },
  {
   "cell_type": "markdown",
   "id": "ih2KqUX1Aj1G",
   "metadata": {
    "id": "ih2KqUX1Aj1G"
   },
   "source": [
    "<font size='5'>**I) Setup**</font>"
   ]
  },
  {
   "cell_type": "code",
   "execution_count": 4,
   "id": "1bGxnahJAlmm",
   "metadata": {
    "id": "1bGxnahJAlmm"
   },
   "outputs": [],
   "source": [
    "import os\n",
    "import torch\n",
    "from torch import nn\n",
    "from torchvision.datasets import CIFAR10\n",
    "from torchvision.transforms import Compose, ToTensor\n",
    "from torch.utils.data import DataLoader\n",
    "import matplotlib.pyplot as plt"
   ]
  },
  {
   "cell_type": "markdown",
   "id": "075f340c",
   "metadata": {
    "id": "075f340c"
   },
   "source": [
    "<font size='4'>**Device Setup**</font>"
   ]
  },
  {
   "cell_type": "markdown",
   "id": "33798935",
   "metadata": {
    "id": "33798935"
   },
   "source": [
    "\n",
    "We aim to enable model training on a GPU to expedite our computations. First, we'll check whether torch.cuda is accessible; if it is, we will utilize the GPU; otherwise, we will continue to using the CPU."
   ]
  },
  {
   "cell_type": "code",
   "execution_count": 5,
   "id": "c9a41951",
   "metadata": {
    "colab": {
     "base_uri": "https://localhost:8080/"
    },
    "id": "c9a41951",
    "outputId": "5bea37c8-cba8-4599-b3cf-0a3073e52229"
   },
   "outputs": [
    {
     "name": "stdout",
     "output_type": "stream",
     "text": [
      "Using cpu device\n"
     ]
    }
   ],
   "source": [
    "device = \"cuda\" if torch.cuda.is_available() else \"cpu\"\n",
    "print(f\"Using {device} device\")"
   ]
  },
  {
   "cell_type": "markdown",
   "id": "2d6db073",
   "metadata": {
    "id": "2d6db073"
   },
   "source": [
    "<font size='4'>**Loading CIFAR-10 Data**</font>"
   ]
  },
  {
   "cell_type": "markdown",
   "id": "af842fd2",
   "metadata": {
    "id": "af842fd2"
   },
   "source": [
    "The CIFAR-10 dataset comprises a collection of 60,000 32x32 color images distributed across ten distinct classes. These classes correspond to various objects and include airplanes, cars, birds, cats, deer, dogs, frogs, horses, ships, and trucks. Within each class, there are precisely 6,000 images."
   ]
  },
  {
   "cell_type": "code",
   "execution_count": 6,
   "id": "0c9c37c7",
   "metadata": {
    "colab": {
     "base_uri": "https://localhost:8080/"
    },
    "id": "0c9c37c7",
    "outputId": "c05e13f3-c642-412e-84b6-475d1ec58640"
   },
   "outputs": [
    {
     "name": "stdout",
     "output_type": "stream",
     "text": [
      "Files already downloaded and verified\n",
      "Files already downloaded and verified\n",
      "Datatype of the dataset object: <class 'torchvision.datasets.cifar.CIFAR10'>\n",
      "Number of samples in training data: 50000\n",
      "Number of samples in test data: 10000\n",
      "Format of the dataset: \n",
      " Dataset CIFAR10\n",
      "    Number of datapoints: 50000\n",
      "    Root location: cifar10_data\n",
      "    Split: Train\n",
      "    StandardTransform\n",
      "Transform: Compose(\n",
      "               ToTensor()\n",
      "           )\n"
     ]
    }
   ],
   "source": [
    "# downloading cifar10 into folder\n",
    "data_dir = 'cifar10_data' # make sure that this folder is created in your working dir\n",
    "\n",
    "#TODO: Fill out train_data and test_data variables using CIFAR10 (i.e., torchvision.datasets.CIFAR)\n",
    "train_data = CIFAR10(data_dir, train=True, download=True, transform=Compose([ToTensor()]))\n",
    "test_data = CIFAR10(data_dir, train=False, download=True, transform=Compose([ToTensor()]))\n",
    "#train_data = None\n",
    "#test_data = None\n",
    "print(f'Datatype of the dataset object: {type(train_data)}')\n",
    "# check the length of dataset\n",
    "print(f'Number of samples in training data: {len(train_data)}')\n",
    "print(f'Number of samples in test data: {len(test_data)}')\n",
    "# Check the format of dataset\n",
    "print(f'Format of the dataset: \\n {train_data}')"
   ]
  },
  {
   "cell_type": "markdown",
   "id": "507b2b64",
   "metadata": {
    "id": "507b2b64"
   },
   "source": [
    "### <font size='4'>**Displaying Loaded Dataset**</font>"
   ]
  },
  {
   "cell_type": "code",
   "execution_count": 7,
   "id": "22b496c9",
   "metadata": {
    "colab": {
     "base_uri": "https://localhost:8080/",
     "height": 438
    },
    "id": "22b496c9",
    "outputId": "ace03255-ec3e-4ae0-d4d2-cc05461a99b4"
   },
   "outputs": [
    {
     "data": {
      "image/png": "[encoded data removed]",
      "text/plain": [
       "<Figure size 432x288 with 6 Axes>"
      ]
     },
     "metadata": {},
     "output_type": "display_data"
    }
   ],
   "source": [
    "fig = plt.figure()\n",
    "for i in range(6):\n",
    "  plt.subplot(2, 3, i+1)\n",
    "  plt.tight_layout()\n",
    "  plt.imshow(train_data[i][0][0], cmap='gray', interpolation='none')\n",
    "  plt.title(\"Class Label: {}\".format(train_data[i][1]))\n",
    "  plt.xticks([])\n",
    "  plt.yticks([])"
   ]
  },
  {
   "cell_type": "markdown",
   "id": "f4b11341",
   "metadata": {
    "id": "f4b11341"
   },
   "source": [
    "## <font size='5'>**II) Building a Neural Network**</font>"
   ]
  },
  {
   "cell_type": "markdown",
   "id": "a180f9c7",
   "metadata": {
    "id": "a180f9c7"
   },
   "source": [
    "### <font size='4'>**1) Defining `CIFAR10Classifier` class**</font>"
   ]
  },
  {
   "cell_type": "markdown",
   "id": "003e4e25",
   "metadata": {
    "id": "003e4e25"
   },
   "source": [
    "<font size='4' color='Red'>Task 1.1 - Defining `CIFAR10Classifier` class (4 points)</font>\n",
    "\n",
    "In the following class, make adjustments to the following attributes: flatten, hidden_size, class_size, and linear_relu_stack. Ensure that the linear_relu_stack consists of a minimum of two linear layers combined with a non-linear activation layer."
   ]
  },
  {
   "cell_type": "code",
   "execution_count": 8,
   "id": "bd2c5289",
   "metadata": {
    "id": "bd2c5289"
   },
   "outputs": [],
   "source": [
    "class CIFAR10Classifier(nn.Module):\n",
    "    def __init__(self):\n",
    "        super(CIFAR10Classifier, self).__init__()\n",
    "        ########################################################################\n",
    "        # TODO: Complete the following variables as instructed earlier\n",
    "        ########################################################################\n",
    "        self.flatten = torch.flatten\n",
    "        self.hidden_size = 128\n",
    "        self.class_size = 10\n",
    "        self.linear_relu_stack = nn.Sequential(nn.Linear(32*32*3, self.hidden_size), \n",
    "                                               nn.ReLU(), nn.Linear(self.hidden_size, self.class_size))\n",
    "        ########################################################################\n",
    "        #                             END OF YOUR CODE                         #\n",
    "        ########################################################################\n",
    "\n",
    "    def forward(self, x):\n",
    "        x = x.flatten(start_dim = 1)\n",
    "        logits = self.linear_relu_stack(x)\n",
    "        return logits"
   ]
  },
  {
   "cell_type": "markdown",
   "id": "720bfbd5",
   "metadata": {
    "id": "720bfbd5"
   },
   "source": [
    "### <font size='4'>**2) Training a Neural Network**</font>"
   ]
  },
  {
   "cell_type": "markdown",
   "id": "fU8M2hZKKIqf",
   "metadata": {
    "id": "fU8M2hZKKIqf"
   },
   "source": [
    "<font size='4' color='Red'>Task 1.2 - Defining parameters (3 points)</font>"
   ]
  },
  {
   "cell_type": "markdown",
   "id": "nWQyEYmrDSV3",
   "metadata": {
    "id": "nWQyEYmrDSV3"
   },
   "source": [
    "Let's create an instance of `CIFAR10Classifier` and move it to the device. After doing so, we define the following hyperparameters for training:\n",
    "\n",
    "- **Number of Epochs**: This signifies the number of iterations over the dataset.\n",
    "- **Batch Size**: It represents the number of data samples that propagate through the network before parameter updates.\n",
    "- **Learning Rate**: This parameter determines the extent of model parameter updates during each batch/epoch. Smaller values lead to slower learning, while larger values may introduce instability during training.\n",
    "\n",
    "**Your Task**:\n",
    "\n",
    "1. Set `learning_rate` to 1e-3, `batch_size` to 64, and `epochs` to 10 initially. Experiment with different values and retain the final choices that yield the highest testing accuracy.\n",
    "\n",
    "2. Select an appropriate loss function. You should experiment with different options, such as `CrossEntropyLoss()`, `MSELoss()`, and any others, and choose the one that best suits the task.\n",
    "\n",
    "3. Define the `optimizer` variable using any optimizer function (e.g., SGD, Adam, etc.). Be sure to explore different parameter values within the chosen optimizer function.\n",
    "\n",
    "4. Remember to record your ultimate choices for each variable that contribute to achieving the best performance for your `CIFAR10Classifier`. To receive full credit for this assignment, your model should attain a classification accuracy of over 50% on the test set."
   ]
  },
  {
   "cell_type": "code",
   "execution_count": 9,
   "id": "WSTgaNxI9c5f",
   "metadata": {
    "id": "WSTgaNxI9c5f"
   },
   "outputs": [],
   "source": [
    "model = CIFAR10Classifier().to(device)\n",
    "model.requires_grad_(True)\n",
    "\n",
    "########################################################################\n",
    "# TODO: Complete the following variables as instructed earlier\n",
    "########################################################################\n",
    "\n",
    "learning_rate = 1e-3\n",
    "batch_size = 64\n",
    "epochs = 10\n",
    "loss_fn = torch.nn.CrossEntropyLoss()\n",
    "optimizer = torch.optim.Adam(model.parameters(), lr=learning_rate)\n",
    "\n",
    "########################################################################\n",
    "#                             END OF YOUR CODE                         #\n",
    "########################################################################"
   ]
  },
  {
   "cell_type": "markdown",
   "id": "556ce020",
   "metadata": {
    "id": "556ce020"
   },
   "source": [
    "### <font size='4'>**3) Train Loop**</font>"
   ]
  },
  {
   "cell_type": "code",
   "execution_count": 10,
   "id": "0cf5e0b8",
   "metadata": {
    "id": "0cf5e0b8"
   },
   "outputs": [],
   "source": [
    "train_dataloader = DataLoader(train_data, batch_size=batch_size)\n",
    "test_dataloader = DataLoader(test_data, batch_size=batch_size)"
   ]
  },
  {
   "cell_type": "markdown",
   "id": "a43130c9",
   "metadata": {
    "id": "a43130c9"
   },
   "source": [
    "In the above cell, we used a Dataloader to create batches for training and testing data. For each batch of size indicated in the batch_size hyperparameter, we perform backprop and update the model parameters' weights and biases.\n",
    "\n",
    "In the following cell, we define our train_loop."
   ]
  },
  {
   "cell_type": "code",
   "execution_count": 11,
   "id": "fa4eeed5",
   "metadata": {
    "id": "fa4eeed5"
   },
   "outputs": [],
   "source": [
    "def train_loop(dataloader, model, loss_fn, optimizer, print_log=True):\n",
    "    size = len(dataloader.dataset)\n",
    "    correct = 0\n",
    "    training_acc = 0\n",
    "    training_loss = 0\n",
    "    for batch, (X, y) in enumerate(dataloader):\n",
    "        # Compute prediction and loss\n",
    "        pred = model(X.to(device))\n",
    "        loss = loss_fn(pred, y.to(device))\n",
    "        correct += (pred.argmax(1) == y.to(device)).type(torch.float).sum().item()\n",
    "\n",
    "        # Backpropagation\n",
    "        optimizer.zero_grad()\n",
    "        loss.backward()\n",
    "        optimizer.step()\n",
    "        if (print_log==True) and (batch % 100 == 0):\n",
    "            loss, current = loss.item(), batch * len(X)\n",
    "            training_loss = loss\n",
    "            print(f\"\"\"Training loop: loss: {loss:>7f}  [{current:>5d}/{size:>5d}]\"\"\")\n",
    "    if (print_log==True):\n",
    "        correct /= size\n",
    "        training_acc = 100*correct\n",
    "        print(f\"\"\"Training Accuracy: {training_acc:>0.1f}%\"\"\")\n",
    "    return training_acc, training_loss"
   ]
  },
  {
   "cell_type": "markdown",
   "id": "2b6072ee",
   "metadata": {
    "id": "2b6072ee"
   },
   "source": [
    "### <font size='4'>**4) Test Loop**</font>"
   ]
  },
  {
   "cell_type": "markdown",
   "id": "ba22bb45",
   "metadata": {
    "id": "ba22bb45"
   },
   "source": [
    "In the test loop, we iterate over the test dataset to check if model performance is improving."
   ]
  },
  {
   "cell_type": "code",
   "execution_count": 12,
   "id": "a05d6353",
   "metadata": {
    "id": "a05d6353"
   },
   "outputs": [],
   "source": [
    "def test_loop(dataloader, model, loss_fn, print_log=True):\n",
    "    size = len(dataloader.dataset)\n",
    "    num_batches = len(dataloader)\n",
    "    test_loss, correct = 0, 0\n",
    "\n",
    "    with torch.no_grad():\n",
    "        for X, y in dataloader:\n",
    "            pred = model(X.to(device))\n",
    "            test_loss += loss_fn(pred, y.to(device)).item()\n",
    "            correct += (pred.argmax(1) == y.to(device)).type(torch.float).sum().item()\n",
    "\n",
    "    test_loss /= num_batches\n",
    "    correct /= size\n",
    "    testing_acc = 100*correct\n",
    "    if (print_log==True):\n",
    "        print(f\"Testing Accuracy: {testing_acc:>0.1f}%, Avg loss: {test_loss:>8f} \\n\")\n",
    "    return testing_acc, test_loss"
   ]
  },
  {
   "cell_type": "markdown",
   "id": "d10b7c82",
   "metadata": {
    "id": "d10b7c82"
   },
   "source": [
    "### <font size='4'>**5) Running the loops**</font>"
   ]
  },
  {
   "cell_type": "markdown",
   "id": "4245bd36",
   "metadata": {
    "id": "4245bd36"
   },
   "source": [
    "We run our loops for a certain number of times, which is indicated in the 'epoch' hyperparameter that we defined earlier. In the following cell, we run both our training and testing loop to see how our training and testing accuracies change over time."
   ]
  },
  {
   "cell_type": "code",
   "execution_count": 10,
   "id": "836fc7f0",
   "metadata": {
    "colab": {
     "base_uri": "https://localhost:8080/"
    },
    "id": "836fc7f0",
    "outputId": "175946c9-02c5-40e6-8fbf-cd3ccf7491ad"
   },
   "outputs": [
    {
     "name": "stdout",
     "output_type": "stream",
     "text": [
      "Epoch 1\n",
      "-------------------------------\n",
      "Training loop: loss: 2.330146  [    0/50000]\n",
      "Training loop: loss: 2.009249  [ 6400/50000]\n",
      "Training loop: loss: 1.753831  [12800/50000]\n",
      "Training loop: loss: 1.964140  [19200/50000]\n",
      "Training loop: loss: 1.974056  [25600/50000]\n",
      "Training loop: loss: 1.851306  [32000/50000]\n",
      "Training loop: loss: 1.953785  [38400/50000]\n",
      "Training loop: loss: 1.725835  [44800/50000]\n",
      "Training Accuracy: 32.8%\n",
      "Testing Accuracy: 37.5%, Avg loss: 1.765651 \n",
      "\n",
      "Epoch 2\n",
      "-------------------------------\n",
      "Training loop: loss: 1.794500  [    0/50000]\n",
      "Training loop: loss: 1.758778  [ 6400/50000]\n",
      "Training loop: loss: 1.498059  [12800/50000]\n",
      "Training loop: loss: 1.767848  [19200/50000]\n",
      "Training loop: loss: 1.784074  [25600/50000]\n",
      "Training loop: loss: 1.810290  [32000/50000]\n",
      "Training loop: loss: 1.897988  [38400/50000]\n",
      "Training loop: loss: 1.660136  [44800/50000]\n",
      "Training Accuracy: 38.3%\n",
      "Testing Accuracy: 41.1%, Avg loss: 1.663415 \n",
      "\n",
      "Epoch 3\n",
      "-------------------------------\n",
      "Training loop: loss: 1.732359  [    0/50000]\n",
      "Training loop: loss: 1.683904  [ 6400/50000]\n",
      "Training loop: loss: 1.456493  [12800/50000]\n",
      "Training loop: loss: 1.705690  [19200/50000]\n",
      "Training loop: loss: 1.672434  [25600/50000]\n",
      "Training loop: loss: 1.737248  [32000/50000]\n",
      "Training loop: loss: 1.836301  [38400/50000]\n",
      "Training loop: loss: 1.623249  [44800/50000]\n",
      "Training Accuracy: 41.1%\n",
      "Testing Accuracy: 43.2%, Avg loss: 1.610741 \n",
      "\n",
      "Epoch 4\n",
      "-------------------------------\n",
      "Training loop: loss: 1.703789  [    0/50000]\n",
      "Training loop: loss: 1.652787  [ 6400/50000]\n",
      "Training loop: loss: 1.413763  [12800/50000]\n",
      "Training loop: loss: 1.701774  [19200/50000]\n",
      "Training loop: loss: 1.617656  [25600/50000]\n",
      "Training loop: loss: 1.685899  [32000/50000]\n",
      "Training loop: loss: 1.779842  [38400/50000]\n",
      "Training loop: loss: 1.611623  [44800/50000]\n",
      "Training Accuracy: 42.7%\n",
      "Testing Accuracy: 44.2%, Avg loss: 1.586245 \n",
      "\n",
      "Epoch 5\n",
      "-------------------------------\n",
      "Training loop: loss: 1.682522  [    0/50000]\n",
      "Training loop: loss: 1.624950  [ 6400/50000]\n",
      "Training loop: loss: 1.394603  [12800/50000]\n",
      "Training loop: loss: 1.654532  [19200/50000]\n",
      "Training loop: loss: 1.594986  [25600/50000]\n",
      "Training loop: loss: 1.664918  [32000/50000]\n",
      "Training loop: loss: 1.755322  [38400/50000]\n",
      "Training loop: loss: 1.618988  [44800/50000]\n",
      "Training Accuracy: 43.7%\n",
      "Testing Accuracy: 44.7%, Avg loss: 1.572809 \n",
      "\n",
      "Epoch 6\n",
      "-------------------------------\n",
      "Training loop: loss: 1.677875  [    0/50000]\n",
      "Training loop: loss: 1.574569  [ 6400/50000]\n",
      "Training loop: loss: 1.353057  [12800/50000]\n",
      "Training loop: loss: 1.601295  [19200/50000]\n",
      "Training loop: loss: 1.597127  [25600/50000]\n",
      "Training loop: loss: 1.657193  [32000/50000]\n",
      "Training loop: loss: 1.756697  [38400/50000]\n",
      "Training loop: loss: 1.597826  [44800/50000]\n",
      "Training Accuracy: 44.5%\n",
      "Testing Accuracy: 45.1%, Avg loss: 1.560544 \n",
      "\n",
      "Epoch 7\n",
      "-------------------------------\n",
      "Training loop: loss: 1.670175  [    0/50000]\n",
      "Training loop: loss: 1.535013  [ 6400/50000]\n",
      "Training loop: loss: 1.346651  [12800/50000]\n",
      "Training loop: loss: 1.582279  [19200/50000]\n",
      "Training loop: loss: 1.555590  [25600/50000]\n",
      "Training loop: loss: 1.653887  [32000/50000]\n",
      "Training loop: loss: 1.699227  [38400/50000]\n",
      "Training loop: loss: 1.590129  [44800/50000]\n",
      "Training Accuracy: 45.3%\n",
      "Testing Accuracy: 45.0%, Avg loss: 1.557301 \n",
      "\n",
      "Epoch 8\n",
      "-------------------------------\n",
      "Training loop: loss: 1.662389  [    0/50000]\n",
      "Training loop: loss: 1.529640  [ 6400/50000]\n",
      "Training loop: loss: 1.361078  [12800/50000]\n",
      "Training loop: loss: 1.556821  [19200/50000]\n",
      "Training loop: loss: 1.531741  [25600/50000]\n",
      "Training loop: loss: 1.639274  [32000/50000]\n",
      "Training loop: loss: 1.645251  [38400/50000]\n",
      "Training loop: loss: 1.564260  [44800/50000]\n",
      "Training Accuracy: 45.7%\n",
      "Testing Accuracy: 45.4%, Avg loss: 1.548906 \n",
      "\n",
      "Epoch 9\n",
      "-------------------------------\n",
      "Training loop: loss: 1.660280  [    0/50000]\n",
      "Training loop: loss: 1.516330  [ 6400/50000]\n",
      "Training loop: loss: 1.339505  [12800/50000]\n",
      "Training loop: loss: 1.547873  [19200/50000]\n",
      "Training loop: loss: 1.510552  [25600/50000]\n",
      "Training loop: loss: 1.635467  [32000/50000]\n",
      "Training loop: loss: 1.639855  [38400/50000]\n",
      "Training loop: loss: 1.548008  [44800/50000]\n",
      "Training Accuracy: 46.2%\n",
      "Testing Accuracy: 45.3%, Avg loss: 1.548707 \n",
      "\n",
      "Epoch 10\n",
      "-------------------------------\n",
      "Training loop: loss: 1.686591  [    0/50000]\n",
      "Training loop: loss: 1.503334  [ 6400/50000]\n",
      "Training loop: loss: 1.327305  [12800/50000]\n",
      "Training loop: loss: 1.549581  [19200/50000]\n",
      "Training loop: loss: 1.509951  [25600/50000]\n",
      "Training loop: loss: 1.625253  [32000/50000]\n",
      "Training loop: loss: 1.624042  [38400/50000]\n",
      "Training loop: loss: 1.535248  [44800/50000]\n",
      "Training Accuracy: 46.6%\n",
      "Testing Accuracy: 45.6%, Avg loss: 1.547350 \n",
      "\n",
      "Done!\n"
     ]
    }
   ],
   "source": [
    "for t in range(epochs):\n",
    "    print(f\"Epoch {t+1}\\n-------------------------------\")\n",
    "    train_loop(train_dataloader, model, loss_fn, optimizer)\n",
    "    test_loop(test_dataloader, model, loss_fn)\n",
    "print(\"Done!\")"
   ]
  },
  {
   "cell_type": "markdown",
   "id": "9d2ca7b1",
   "metadata": {
    "id": "9d2ca7b1"
   },
   "source": [
    "## <font size='5'>**III) Fine Tuning Hyperparameters**</font>"
   ]
  },
  {
   "cell_type": "markdown",
   "id": "vtmexjmGFYTR",
   "metadata": {
    "id": "vtmexjmGFYTR"
   },
   "source": [
    "Adjusting the hyperparameters and gaining a deeper understanding of how they impact the ultimate performance is a substantial aspect of working with neural networks. Therefore, we encourage you to gain practical experience in this regard."
   ]
  },
  {
   "cell_type": "markdown",
   "id": "7f79ae32",
   "metadata": {
    "id": "7f79ae32"
   },
   "source": [
    "In this task, your goal is to play around with different settings for various options like layer size, batch size, learning rate. You should also experiment with optimizer hyperparameters including momentum, weight decay and more.\n",
    "\n",
    "To understand how these choices affect your model's performance, you'll create at least three graphs. Each graph will show how changing one of these options (except for epochs) impacts how well your model learns and predicts."
   ]
  },
  {
   "cell_type": "markdown",
   "id": "x719wW9FIynX",
   "metadata": {
    "id": "x719wW9FIynX"
   },
   "source": [
    "## <font size='4'>**Example** - We've given you an example code for changing number of epochs so you can see how it's done.</font>"
   ]
  },
  {
   "cell_type": "code",
   "execution_count": 13,
   "id": "olcxRr7T8bpj",
   "metadata": {
    "colab": {
     "base_uri": "https://localhost:8080/",
     "height": 447
    },
    "id": "olcxRr7T8bpj",
    "outputId": "410d5a5a-e219-4039-a564-a96becddf40b"
   },
   "outputs": [
    {
     "name": "stdout",
     "output_type": "stream",
     "text": [
      "Currently running epoch 1\n",
      "Currently running epoch 1\n",
      "Currently running epoch 2\n",
      "Currently running epoch 3\n",
      "Currently running epoch 4\n",
      "Currently running epoch 5\n",
      "Currently running epoch 1\n",
      "Currently running epoch 2\n",
      "Currently running epoch 3\n",
      "Currently running epoch 4\n",
      "Currently running epoch 5\n",
      "Currently running epoch 6\n",
      "Currently running epoch 7\n",
      "Currently running epoch 8\n",
      "Currently running epoch 9\n",
      "Currently running epoch 10\n",
      "Currently running epoch 1\n",
      "Currently running epoch 2\n",
      "Currently running epoch 3\n",
      "Currently running epoch 4\n",
      "Currently running epoch 5\n",
      "Currently running epoch 6\n",
      "Currently running epoch 7\n",
      "Currently running epoch 8\n",
      "Currently running epoch 9\n",
      "Currently running epoch 10\n",
      "Currently running epoch 11\n",
      "Currently running epoch 12\n",
      "Currently running epoch 13\n",
      "Currently running epoch 14\n",
      "Currently running epoch 15\n",
      "Currently running epoch 1\n",
      "Currently running epoch 2\n",
      "Currently running epoch 3\n",
      "Currently running epoch 4\n",
      "Currently running epoch 5\n",
      "Currently running epoch 6\n",
      "Currently running epoch 7\n",
      "Currently running epoch 8\n",
      "Currently running epoch 9\n",
      "Currently running epoch 10\n",
      "Currently running epoch 11\n",
      "Currently running epoch 12\n",
      "Currently running epoch 13\n",
      "Currently running epoch 14\n",
      "Currently running epoch 15\n",
      "Currently running epoch 16\n",
      "Currently running epoch 17\n",
      "Currently running epoch 18\n",
      "Currently running epoch 19\n",
      "Currently running epoch 20\n",
      "Currently running epoch 1\n",
      "Currently running epoch 2\n",
      "Currently running epoch 3\n",
      "Currently running epoch 4\n",
      "Currently running epoch 5\n",
      "Currently running epoch 6\n",
      "Currently running epoch 7\n",
      "Currently running epoch 8\n",
      "Currently running epoch 9\n",
      "Currently running epoch 10\n",
      "Currently running epoch 11\n",
      "Currently running epoch 12\n",
      "Currently running epoch 13\n",
      "Currently running epoch 14\n",
      "Currently running epoch 15\n",
      "Currently running epoch 16\n",
      "Currently running epoch 17\n",
      "Currently running epoch 18\n",
      "Currently running epoch 19\n",
      "Currently running epoch 20\n",
      "Currently running epoch 21\n",
      "Currently running epoch 22\n",
      "Currently running epoch 23\n",
      "Currently running epoch 24\n",
      "Currently running epoch 25\n",
      "Done!\n"
     ]
    },
    {
     "data": {
      "image/png": "[encoded data removed]",
      "text/plain": [
       "<Figure size 432x288 with 1 Axes>"
      ]
     },
     "metadata": {
      "needs_background": "light"
     },
     "output_type": "display_data"
    }
   ],
   "source": [
    "learning_rate = 1e-3\n",
    "batch_size = 64\n",
    "epochs = [1, 5, 10, 15, 20, 25]\n",
    "momentum = 0\n",
    "weight_decay = 0\n",
    "dampening = 0\n",
    "\n",
    "# Train and Test\n",
    "test_accs = []\n",
    "test_losses = []\n",
    "training_accs = []\n",
    "best_epoch = 0\n",
    "best_test_accuracy = 0\n",
    "for e in epochs: #Would change this to reflect whatever hyperparameter you would be testing\n",
    "    # Model\n",
    "    model = CIFAR10Classifier().to(device)\n",
    "    model.requires_grad_(True)\n",
    "    # Optimizer\n",
    "    optimizer = torch.optim.SGD(model.parameters(),\n",
    "                            lr = learning_rate,\n",
    "                            momentum = momentum,\n",
    "                            weight_decay = weight_decay,\n",
    "                            dampening= dampening)\n",
    "    # Loss Func\n",
    "    loss_fn = nn.CrossEntropyLoss()\n",
    "    # Dataloaders\n",
    "    train_dataloader = DataLoader(train_data, batch_size=batch_size)\n",
    "    test_dataloader = DataLoader(test_data, batch_size=batch_size)\n",
    "    final_train_acc = 0\n",
    "    final_test_acc = 0\n",
    "    final_test_loss = 0\n",
    "    for t in range(e):\n",
    "        print(f\"Currently running epoch {t+1}\")\n",
    "        training_acc = train_loop(train_dataloader, model, loss_fn, optimizer, print_log=False)\n",
    "        testing_acc, test_loss =  test_loop(test_dataloader, model, loss_fn, print_log=False)\n",
    "        final_test_acc = testing_acc\n",
    "        final_test_loss = test_loss\n",
    "        final_train_acc = training_acc\n",
    "    test_accs.append(final_test_acc)\n",
    "    test_losses.append(final_test_loss)\n",
    "    training_accs.append(final_train_acc)\n",
    "plt.plot(epochs,test_losses, color ='tab:red', label='testing loss')\n",
    "plt.plot(epochs,test_accs, color ='tab:blue', label='testing accuracy')\n",
    "plt.plot(epochs,training_accs, color ='tab:green', label='training accuracy')\n",
    "plt.legend()\n",
    "print(\"Done!\")\n"
   ]
  },
  {
   "cell_type": "markdown",
   "id": "w7Zi1npqHU7B",
   "metadata": {
    "id": "w7Zi1npqHU7B"
   },
   "source": [
    "<font size='4' color='Red'>Task 1.3 - Experiment 1 (2 point)</font>"
   ]
  },
  {
   "cell_type": "markdown",
   "id": "cd5IJznoH60y",
   "metadata": {
    "id": "cd5IJznoH60y"
   },
   "source": [
    "$$\\text{I am tuning Learning Rate hyperparameter for better performance}$$"
   ]
  },
  {
   "cell_type": "code",
   "execution_count": 13,
   "id": "9Fkd6usOHP0c",
   "metadata": {
    "id": "9Fkd6usOHP0c"
   },
   "outputs": [
    {
     "name": "stdout",
     "output_type": "stream",
     "text": [
      "Currently running epoch 1\n",
      "Currently running epoch 2\n",
      "Currently running epoch 3\n",
      "Currently running epoch 4\n",
      "Currently running epoch 5\n",
      "Currently running epoch 1\n",
      "Currently running epoch 2\n",
      "Currently running epoch 3\n",
      "Currently running epoch 4\n",
      "Currently running epoch 5\n",
      "Currently running epoch 1\n",
      "Currently running epoch 2\n",
      "Currently running epoch 3\n",
      "Currently running epoch 4\n",
      "Currently running epoch 5\n",
      "epoch: 3 | best learning rate : 0.01 | test accuracy : 38.26\n",
      "Done!\n"
     ]
    },
    {
     "data": {
      "image/png": "[encoded data removed]",
      "text/plain": [
       "<Figure size 432x288 with 1 Axes>"
      ]
     },
     "metadata": {
      "needs_background": "light"
     },
     "output_type": "display_data"
    }
   ],
   "source": [
    "############################################################################\n",
    "# TODO: Implement your code here\n",
    "############################################################################\n",
    "\n",
    "learning_rates = [1e-2, 1e-3, 1e-4]\n",
    "batch_size = 64\n",
    "epochs = 5\n",
    "momentum = 0\n",
    "weight_decay = 0\n",
    "dampening = 0\n",
    "\n",
    "best_lr = 0\n",
    "best_test_acc = 0\n",
    "best_epoch = -1\n",
    "\n",
    "# Train and Test\n",
    "test_accs = []\n",
    "test_losses = []\n",
    "training_accs = []\n",
    "for learning_rate in learning_rates: #Would change this to reflect whatever hyperparameter you would be testing\n",
    "    # Model\n",
    "    model = CIFAR10Classifier().to(device)\n",
    "    model.requires_grad_(True)\n",
    "    # Optimizer\n",
    "    optimizer = torch.optim.SGD(model.parameters(),\n",
    "                            lr = learning_rate,\n",
    "                            momentum = momentum,\n",
    "                            weight_decay = weight_decay,\n",
    "                            dampening= dampening)\n",
    "    # Loss Func\n",
    "    loss_fn = nn.CrossEntropyLoss()\n",
    "    # Dataloaders\n",
    "    train_dataloader = DataLoader(train_data, batch_size=batch_size)\n",
    "    test_dataloader = DataLoader(test_data, batch_size=batch_size)\n",
    "    final_train_acc = 0\n",
    "    final_test_acc = 0\n",
    "    final_test_loss = 0\n",
    "    for t in range(epochs):\n",
    "        print(f\"Currently running epoch {t+1}\")\n",
    "        training_acc = train_loop(train_dataloader, model, loss_fn, optimizer, print_log=False)\n",
    "        testing_acc, test_loss =  test_loop(test_dataloader, model, loss_fn, print_log=False)\n",
    "        final_test_acc = testing_acc\n",
    "        final_test_loss = test_loss\n",
    "        final_train_acc = training_acc\n",
    "        if final_test_acc > best_test_acc:\n",
    "            best_test_acc = final_test_acc\n",
    "            best_lr = learning_rate\n",
    "            best_epoch = t\n",
    "    test_accs.append(final_test_acc)\n",
    "    test_losses.append(final_test_loss)\n",
    "    training_accs.append(final_train_acc)\n",
    "plt.plot(learning_rates,test_losses, color ='tab:red', label='testing loss')\n",
    "plt.plot(learning_rates,test_accs, color ='tab:blue', label='testing accuracy')\n",
    "plt.plot(learning_rates,training_accs, color ='tab:green', label='training accuracy')\n",
    "plt.legend()\n",
    "\n",
    "print(f'epoch: {best_epoch} | best learning rate : {best_lr} | test accuracy : {best_test_acc}')\n",
    "print(\"Done!\")\n",
    "\n",
    "\n",
    "# raise NotImplementedError\n",
    "\n",
    "############################################################################\n",
    "#                             END OF YOUR CODE                             #\n",
    "############################################################################"
   ]
  },
  {
   "cell_type": "markdown",
   "id": "qnsKis_dLoGW",
   "metadata": {
    "id": "qnsKis_dLoGW"
   },
   "source": []
  },
  {
   "cell_type": "markdown",
   "id": "bCXoR1dtIVqE",
   "metadata": {
    "id": "bCXoR1dtIVqE"
   },
   "source": [
    "<font size='4' color='Red'>Task 1.3 - Experiment 2 (2 point)</font>"
   ]
  },
  {
   "cell_type": "markdown",
   "id": "NBR25sGzIaqE",
   "metadata": {
    "id": "NBR25sGzIaqE"
   },
   "source": [
    "$$\\text{I am tuning WEIGHT DECAY hyperparameter for better performance}$$"
   ]
  },
  {
   "cell_type": "code",
   "execution_count": 14,
   "id": "7Xm_gZhsIaqP",
   "metadata": {
    "id": "7Xm_gZhsIaqP"
   },
   "outputs": [
    {
     "name": "stdout",
     "output_type": "stream",
     "text": [
      "Currently running epoch 1\n",
      "Currently running epoch 2\n",
      "Currently running epoch 3\n",
      "Currently running epoch 4\n",
      "Currently running epoch 5\n",
      "Currently running epoch 1\n",
      "Currently running epoch 2\n",
      "Currently running epoch 3\n",
      "Currently running epoch 4\n",
      "Currently running epoch 5\n",
      "Currently running epoch 1\n",
      "Currently running epoch 2\n",
      "Currently running epoch 3\n",
      "Currently running epoch 4\n",
      "Currently running epoch 5\n",
      "Currently running epoch 1\n",
      "Currently running epoch 2\n",
      "Currently running epoch 3\n",
      "Currently running epoch 4\n",
      "Currently running epoch 5\n",
      "epoch: 3 | best weight_decay : 0.001 | test accuracy : 38.87\n",
      "Done!\n"
     ]
    },
    {
     "data": {
      "image/png": "[encoded data removed]",
      "text/plain": [
       "<Figure size 432x288 with 1 Axes>"
      ]
     },
     "metadata": {
      "needs_background": "light"
     },
     "output_type": "display_data"
    }
   ],
   "source": [
    "############################################################################\n",
    "# TODO: Implement your code here\n",
    "############################################################################\n",
    "############################################################################\n",
    "# TODO: Implement your code here\n",
    "############################################################################\n",
    "\n",
    "learning_rate = 1e-2\n",
    "batch_size = 64\n",
    "epochs = 5\n",
    "momentum = 0\n",
    "weight_decays = [0, 1e-5, 1e-4, 1e-3]\n",
    "dampening = 0\n",
    "\n",
    "best_wd = 0\n",
    "best_test_acc = 0\n",
    "best_epoch = -1\n",
    "\n",
    "# Train and Test\n",
    "test_accs = []\n",
    "test_losses = []\n",
    "training_accs = []\n",
    "for weight_decay in weight_decays: #Would change this to reflect whatever hyperparameter you would be testing\n",
    "    # Model\n",
    "    model = CIFAR10Classifier().to(device)\n",
    "    model.requires_grad_(True)\n",
    "    # Optimizer\n",
    "    optimizer = torch.optim.SGD(model.parameters(),\n",
    "                            lr = learning_rate,\n",
    "                            momentum = momentum,\n",
    "                            weight_decay = weight_decay,\n",
    "                            dampening= dampening)\n",
    "    # Loss Func\n",
    "    loss_fn = nn.CrossEntropyLoss()\n",
    "    # Dataloaders\n",
    "    train_dataloader = DataLoader(train_data, batch_size=batch_size)\n",
    "    test_dataloader = DataLoader(test_data, batch_size=batch_size)\n",
    "    final_train_acc = 0\n",
    "    final_test_acc = 0\n",
    "    final_test_loss = 0\n",
    "    for t in range(epochs):\n",
    "        print(f\"Currently running epoch {t+1}\")\n",
    "        training_acc = train_loop(train_dataloader, model, loss_fn, optimizer, print_log=False)\n",
    "        testing_acc, test_loss =  test_loop(test_dataloader, model, loss_fn, print_log=False)\n",
    "        final_test_acc = testing_acc\n",
    "        final_test_loss = test_loss\n",
    "        final_train_acc = training_acc\n",
    "        if final_test_acc > best_test_acc:\n",
    "            best_test_acc = final_test_acc\n",
    "            best_wd = weight_decay\n",
    "            best_epoch = t\n",
    "    test_accs.append(final_test_acc)\n",
    "    test_losses.append(final_test_loss)\n",
    "    training_accs.append(final_train_acc)\n",
    "plt.plot(weight_decays,test_losses, color ='tab:red', label='testing loss')\n",
    "plt.plot(weight_decays,test_accs, color ='tab:blue', label='testing accuracy')\n",
    "plt.plot(weight_decays,training_accs, color ='tab:green', label='training accuracy')\n",
    "plt.legend()\n",
    "\n",
    "print(f'epoch: {best_epoch} | best weight_decay : {best_wd} | test accuracy : {best_test_acc}')\n",
    "print(\"Done!\")\n",
    "\n",
    "\n",
    "# raise NotImplementedError\n",
    "\n",
    "############################################################################\n",
    "#                             END OF YOUR CODE                             #\n",
    "############################################################################\n",
    "# raise NotImplementedError\n",
    "\n",
    "############################################################################\n",
    "#                             END OF YOUR CODE                             #\n",
    "############################################################################"
   ]
  },
  {
   "cell_type": "markdown",
   "id": "RXVjjad0IhZs",
   "metadata": {
    "id": "RXVjjad0IhZs"
   },
   "source": [
    "<font size='4' color='Red'>Task 1.4 - Experiment 3 (2 point)</font>"
   ]
  },
  {
   "cell_type": "markdown",
   "id": "6NZyqrBXIhZs",
   "metadata": {
    "id": "6NZyqrBXIhZs"
   },
   "source": [
    "$$\\text{I am tuning batch size hyperparameter for better performance}$$"
   ]
  },
  {
   "cell_type": "code",
   "execution_count": 15,
   "id": "XytrrMb3IhZs",
   "metadata": {
    "id": "XytrrMb3IhZs"
   },
   "outputs": [
    {
     "name": "stdout",
     "output_type": "stream",
     "text": [
      "Currently running epoch 1\n",
      "Currently running epoch 2\n",
      "Currently running epoch 3\n",
      "Currently running epoch 4\n",
      "Currently running epoch 5\n",
      "Currently running epoch 1\n",
      "Currently running epoch 2\n",
      "Currently running epoch 3\n",
      "Currently running epoch 4\n",
      "Currently running epoch 5\n",
      "Currently running epoch 1\n",
      "Currently running epoch 2\n",
      "Currently running epoch 3\n",
      "Currently running epoch 4\n",
      "Currently running epoch 5\n",
      "Currently running epoch 1\n",
      "Currently running epoch 2\n",
      "Currently running epoch 3\n",
      "Currently running epoch 4\n",
      "Currently running epoch 5\n",
      "epoch: 4 | best weight_decay : 16 | test accuracy : 44.7\n",
      "Done!\n"
     ]
    },
    {
     "data": {
      "image/png": "[encoded data removed]",
      "text/plain": [
       "<Figure size 432x288 with 1 Axes>"
      ]
     },
     "metadata": {
      "needs_background": "light"
     },
     "output_type": "display_data"
    }
   ],
   "source": [
    "############################################################################\n",
    "# TODO: Implement your code here\n",
    "############################################################################\n",
    "learning_rate = 1e-2\n",
    "batch_sizes = [16, 32, 64, 128]\n",
    "epochs = 5\n",
    "momentum = 0\n",
    "weight_decay = 1e-3\n",
    "dampening = 0\n",
    "\n",
    "best_bs = 0\n",
    "best_test_acc = 0\n",
    "best_epoch = -1\n",
    "\n",
    "# Train and Test\n",
    "test_accs = []\n",
    "test_losses = []\n",
    "training_accs = []\n",
    "for batch_size in batch_sizes: #Would change this to reflect whatever hyperparameter you would be testing\n",
    "    # Model\n",
    "    model = CIFAR10Classifier().to(device)\n",
    "    model.requires_grad_(True)\n",
    "    # Optimizer\n",
    "    optimizer = torch.optim.SGD(model.parameters(),\n",
    "                            lr = learning_rate,\n",
    "                            momentum = momentum,\n",
    "                            weight_decay = weight_decay,\n",
    "                            dampening= dampening)\n",
    "    # Loss Func\n",
    "    loss_fn = nn.CrossEntropyLoss()\n",
    "    # Dataloaders\n",
    "    train_dataloader = DataLoader(train_data, batch_size=batch_size)\n",
    "    test_dataloader = DataLoader(test_data, batch_size=batch_size)\n",
    "    final_train_acc = 0\n",
    "    final_test_acc = 0\n",
    "    final_test_loss = 0\n",
    "    for t in range(epochs):\n",
    "        print(f\"Currently running epoch {t+1}\")\n",
    "        training_acc = train_loop(train_dataloader, model, loss_fn, optimizer, print_log=False)\n",
    "        testing_acc, test_loss =  test_loop(test_dataloader, model, loss_fn, print_log=False)\n",
    "        final_test_acc = testing_acc\n",
    "        final_test_loss = test_loss\n",
    "        final_train_acc = training_acc\n",
    "        if final_test_acc > best_test_acc:\n",
    "            best_test_acc = final_test_acc\n",
    "            best_bs = batch_size\n",
    "            best_epoch = t\n",
    "    test_accs.append(final_test_acc)\n",
    "    test_losses.append(final_test_loss)\n",
    "    training_accs.append(final_train_acc)\n",
    "plt.plot(batch_sizes,test_losses, color ='tab:red', label='testing loss')\n",
    "plt.plot(batch_sizes,test_accs, color ='tab:blue', label='testing accuracy')\n",
    "plt.plot(batch_sizes,training_accs, color ='tab:green', label='training accuracy')\n",
    "plt.legend()\n",
    "\n",
    "print(f'epoch: {best_epoch} | best weight_decay : {best_bs} | test accuracy : {best_test_acc}')\n",
    "print(\"Done!\")\n",
    "\n",
    "# raise NotImplementedError\n",
    "\n",
    "############################################################################\n",
    "#                             END OF YOUR CODE                             #\n",
    "############################################################################"
   ]
  },
  {
   "cell_type": "code",
   "execution_count": 16,
   "id": "2d1dce67",
   "metadata": {},
   "outputs": [
    {
     "name": "stdout",
     "output_type": "stream",
     "text": [
      "epoch: 4 | best batch size : 16 | test accuracy : 44.7\n",
      "Done!\n"
     ]
    },
    {
     "data": {
      "image/png": "[encoded data removed]",
      "text/plain": [
       "<Figure size 432x288 with 1 Axes>"
      ]
     },
     "metadata": {
      "needs_background": "light"
     },
     "output_type": "display_data"
    }
   ],
   "source": [
    "plt.plot(batch_sizes,test_losses, color ='tab:red', label='testing loss')\n",
    "plt.plot(batch_sizes,test_accs, color ='tab:blue', label='testing accuracy')\n",
    "plt.plot(batch_sizes,training_accs, color ='tab:green', label='training accuracy')\n",
    "plt.legend()\n",
    "\n",
    "print(f'epoch: {best_epoch} | best batch size : {best_bs} | test accuracy : {best_test_acc}')\n",
    "print(\"Done!\")"
   ]
  },
  {
   "cell_type": "code",
   "execution_count": null,
   "id": "b9ad43bb",
   "metadata": {},
   "outputs": [],
   "source": []
  }
 ],
 "metadata": {
  "accelerator": "GPU",
  "colab": {
   "gpuType": "T4",
   "provenance": []
  },
  "kernelspec": {
   "display_name": "Python 3",
   "language": "python",
   "name": "python3"
  },
  "language_info": {
   "codemirror_mode": {
    "name": "ipython",
    "version": 3
   },
   "file_extension": ".py",
   "mimetype": "text/x-python",
   "name": "python",
   "nbconvert_exporter": "python",
   "pygments_lexer": "ipython3",
   "version": "3.8.8"
  }
 },
 "nbformat": 4,
 "nbformat_minor": 5
}
